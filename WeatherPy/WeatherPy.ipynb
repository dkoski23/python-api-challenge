{
 "cells": [
  {
   "cell_type": "markdown",
   "metadata": {},
   "source": [
    "# WeatherPy\n",
    "----\n",
    "\n",
    "#### Note\n",
    "* Instructions have been included for each segment. You do not have to follow them exactly, but they are included to help you think through the steps."
   ]
  },
  {
   "cell_type": "code",
   "execution_count": 22,
   "metadata": {
    "scrolled": true
   },
   "outputs": [],
   "source": [
    "# Dependencies and Setup\n",
    "import matplotlib.pyplot as plt\n",
    "import pandas as pd\n",
    "import numpy as np\n",
    "import requests\n",
    "import time\n",
    "from scipy.stats import linregress\n",
    "\n",
    "# Import API key\n",
    "from api_keys import weather_api_key\n",
    "\n",
    "# Incorporated citipy to determine city based on latitude and longitude\n",
    "from citipy import citipy\n",
    "\n",
    "# Output File (CSV)\n",
    "output_data_file = \"output_data/cities.csv\"\n",
    "\n",
    "# Range of latitudes and longitudes\n",
    "lat_range = (-90, 90)\n",
    "lng_range = (-180, 180)"
   ]
  },
  {
   "cell_type": "markdown",
   "metadata": {},
   "source": [
    "## Generate Cities List"
   ]
  },
  {
   "cell_type": "code",
   "execution_count": 23,
   "metadata": {},
   "outputs": [
    {
     "data": {
      "text/plain": [
       "611"
      ]
     },
     "execution_count": 23,
     "metadata": {},
     "output_type": "execute_result"
    }
   ],
   "source": [
    "# List for holding lat_lngs and cities\n",
    "lat_lngs = []\n",
    "cities = []\n",
    "\n",
    "# Create a set of random lat and lng combinations\n",
    "lats = np.random.uniform(lat_range[0], lat_range[1], size=1500)\n",
    "lngs = np.random.uniform(lng_range[0], lng_range[1], size=1500)\n",
    "lat_lngs = zip(lats, lngs)\n",
    "\n",
    "# Identify nearest city for each lat, lng combination\n",
    "for lat_lng in lat_lngs:\n",
    "    city = citipy.nearest_city(lat_lng[0], lat_lng[1]).city_name\n",
    "    \n",
    "    # If the city is unique, then add it to a our cities list\n",
    "    if city not in cities:\n",
    "        cities.append(city)\n",
    "\n",
    "# Print the city count to confirm sufficient count\n",
    "len(cities)"
   ]
  },
  {
   "cell_type": "markdown",
   "metadata": {},
   "source": [
    "### Perform API Calls\n",
    "* Perform a weather check on each city using a series of successive API calls.\n",
    "* Include a print log of each city as it'sbeing processed (with the city number and city name).\n"
   ]
  },
  {
   "cell_type": "code",
   "execution_count": 76,
   "metadata": {
    "scrolled": true
   },
   "outputs": [
    {
     "name": "stdout",
     "output_type": "stream",
     "text": [
      "Processing Record 1 of Set 1 | rikitea\n",
      "Processing Record 2 of Set 1 | punta arenas\n",
      "Processing Record 3 of Set 1 | kapaa\n",
      "Processing Record 4 of Set 1 | puerto ayora\n",
      "Processing Record 5 of Set 1 | bredasdorp\n",
      "Processing Record 6 of Set 1 | vostok\n",
      "Processing Record 7 of Set 1 | avarua\n",
      "Processing Record 8 of Set 1 | bethel\n",
      "Processing Record 9 of Set 1 | port alfred\n",
      "Processing Record 10 of Set 1 | bandarbeyla\n",
      "Processing Record 11 of Set 1 | chongwe\n",
      "Processing Record 12 of Set 1 | bonthe\n",
      "Processing Record 13 of Set 1 | tautira\n",
      "Processing Record 14 of Set 1 | razlog\n",
      "Processing Record 15 of Set 1 | sola\n",
      "Processing Record 16 of Set 1 | albany\n",
      "Processing Record 17 of Set 1 | batagay\n",
      "Processing Record 18 of Set 1 | barentsburg\n",
      "not on openweather\n",
      "Processing Record 19 of Set 1 | nikolskoye\n",
      "Processing Record 20 of Set 1 | colorado\n",
      "Processing Record 21 of Set 1 | takoradi\n",
      "Processing Record 22 of Set 1 | busselton\n",
      "Processing Record 23 of Set 1 | bluff\n",
      "Processing Record 24 of Set 1 | praia\n",
      "Processing Record 25 of Set 1 | namatanai\n",
      "Processing Record 26 of Set 1 | ostrovnoy\n",
      "Processing Record 27 of Set 1 | jamestown\n",
      "Processing Record 28 of Set 1 | agua verde\n",
      "Processing Record 29 of Set 1 | hermanus\n",
      "Processing Record 30 of Set 1 | atuona\n",
      "Processing Record 31 of Set 1 | cherskiy\n",
      "Processing Record 32 of Set 1 | beaupre\n",
      "Processing Record 33 of Set 1 | itaituba\n",
      "Processing Record 34 of Set 1 | kodiak\n",
      "Processing Record 35 of Set 1 | thompson\n",
      "Processing Record 36 of Set 1 | tepeapulco\n",
      "Processing Record 37 of Set 1 | kamenka\n",
      "Processing Record 38 of Set 1 | ribeira grande\n",
      "Processing Record 39 of Set 1 | jalu\n",
      "Processing Record 40 of Set 1 | muzhi\n",
      "Processing Record 41 of Set 1 | yar-sale\n",
      "Processing Record 42 of Set 1 | bambous virieux\n",
      "Processing Record 43 of Set 1 | pioner\n",
      "Processing Record 44 of Set 1 | vagur\n",
      "Processing Record 45 of Set 1 | georgetown\n",
      "Processing Record 46 of Set 1 | mar del plata\n",
      "Processing Record 47 of Set 1 | bilibino\n",
      "Processing Record 48 of Set 1 | laguna\n",
      "Processing Record 49 of Set 1 | berbera\n",
      "Processing Record 50 of Set 1 | sao filipe\n",
      "Processing Record 51 of Set 1 | bathsheba\n",
      "Processing Record 52 of Set 1 | ushuaia\n",
      "Processing Record 53 of Set 1 | mataura\n",
      "Processing Record 54 of Set 1 | cape town\n",
      "Processing Record 55 of Set 1 | chokurdakh\n",
      "Processing Record 56 of Set 1 | atikokan\n",
      "Processing Record 57 of Set 1 | san quintin\n",
      "Processing Record 58 of Set 1 | hobart\n",
      "Processing Record 59 of Set 1 | nizhneudinsk\n",
      "Processing Record 60 of Set 1 | faanui\n",
      "Processing Record 61 of Set 1 | ambon\n",
      "Processing Record 62 of Set 1 | camacha\n",
      "Processing Record 63 of Set 1 | kahului\n",
      "Processing Record 64 of Set 1 | mezhdurechensk\n",
      "Processing Record 65 of Set 1 | kotka\n",
      "Processing Record 66 of Set 1 | brindisi\n",
      "Processing Record 67 of Set 1 | dikson\n",
      "Processing Record 68 of Set 1 | tiksi\n",
      "Processing Record 69 of Set 1 | marcona\n",
      "not on openweather\n",
      "Processing Record 70 of Set 1 | belushya guba\n",
      "not on openweather\n",
      "Processing Record 71 of Set 1 | kudahuvadhoo\n",
      "Processing Record 72 of Set 1 | luxeuil-les-bains\n",
      "Processing Record 73 of Set 1 | atherton\n",
      "Processing Record 74 of Set 1 | cidreira\n",
      "Processing Record 75 of Set 1 | kulhudhuffushi\n",
      "Processing Record 76 of Set 1 | tuktoyaktuk\n",
      "Processing Record 77 of Set 1 | provideniya\n",
      "Processing Record 78 of Set 1 | louisbourg\n",
      "not on openweather\n",
      "Processing Record 79 of Set 1 | nishihara\n",
      "Processing Record 80 of Set 1 | fare\n",
      "Processing Record 81 of Set 1 | saint-philippe\n",
      "Processing Record 82 of Set 1 | saint george\n",
      "Processing Record 83 of Set 1 | kruisfontein\n",
      "Processing Record 84 of Set 1 | sayyan\n",
      "Processing Record 85 of Set 1 | hithadhoo\n",
      "Processing Record 86 of Set 1 | nhulunbuy\n",
      "Processing Record 87 of Set 1 | olinda\n",
      "Processing Record 88 of Set 1 | chuy\n",
      "Processing Record 89 of Set 1 | sarangani\n",
      "Processing Record 90 of Set 1 | lakhdenpokhya\n",
      "Processing Record 91 of Set 1 | vaini\n",
      "Processing Record 92 of Set 1 | puerto madryn\n",
      "Processing Record 93 of Set 1 | taolanaro\n",
      "not on openweather\n",
      "Processing Record 94 of Set 1 | upernavik\n",
      "Processing Record 95 of Set 1 | lebu\n",
      "Processing Record 96 of Set 1 | tecolotlan\n",
      "Processing Record 97 of Set 1 | esperance\n",
      "Processing Record 98 of Set 1 | qaanaaq\n",
      "Processing Record 99 of Set 1 | castro\n",
      "Processing Record 100 of Set 2 | petropavlovka\n",
      "Processing Record 101 of Set 2 | shingu\n",
      "Processing Record 102 of Set 2 | kaitangata\n",
      "Processing Record 103 of Set 2 | beyneu\n",
      "Processing Record 104 of Set 2 | novobiryusinskiy\n",
      "Processing Record 105 of Set 2 | scottsburgh\n",
      "not on openweather\n",
      "Processing Record 106 of Set 2 | aykhal\n",
      "Processing Record 107 of Set 2 | ponta delgada\n",
      "Processing Record 108 of Set 2 | san patricio\n",
      "Processing Record 109 of Set 2 | burica\n",
      "not on openweather\n",
      "Processing Record 110 of Set 2 | haines junction\n",
      "Processing Record 111 of Set 2 | terney\n",
      "Processing Record 112 of Set 2 | ugoofaaru\n",
      "Processing Record 113 of Set 2 | severo-kurilsk\n",
      "Processing Record 114 of Set 2 | kirakira\n",
      "Processing Record 115 of Set 2 | belle glade\n",
      "Processing Record 116 of Set 2 | saldanha\n",
      "Processing Record 117 of Set 2 | saskylakh\n",
      "Processing Record 118 of Set 2 | coahuayana\n",
      "Processing Record 119 of Set 2 | carnarvon\n",
      "Processing Record 120 of Set 2 | berlevag\n",
      "Processing Record 121 of Set 2 | tabou\n",
      "Processing Record 122 of Set 2 | sterling\n",
      "Processing Record 123 of Set 2 | east london\n",
      "Processing Record 124 of Set 2 | beringovskiy\n",
      "Processing Record 125 of Set 2 | springfield\n",
      "Processing Record 126 of Set 2 | butaritari\n",
      "Processing Record 127 of Set 2 | itarema\n",
      "Processing Record 128 of Set 2 | salalah\n",
      "Processing Record 129 of Set 2 | sinnamary\n",
      "Processing Record 130 of Set 2 | coquimbo\n",
      "Processing Record 131 of Set 2 | romitan\n",
      "Processing Record 132 of Set 2 | nouakchott\n",
      "Processing Record 133 of Set 2 | airai\n",
      "Processing Record 134 of Set 2 | sitka\n",
      "Processing Record 135 of Set 2 | ngunguru\n",
      "Processing Record 136 of Set 2 | guerrero negro\n",
      "Processing Record 137 of Set 2 | punta de bombon\n",
      "Processing Record 138 of Set 2 | sinegorye\n",
      "Processing Record 139 of Set 2 | barrow\n",
      "Processing Record 140 of Set 2 | chazuta\n",
      "Processing Record 141 of Set 2 | shirokiy\n",
      "Processing Record 142 of Set 2 | klaksvik\n",
      "Processing Record 143 of Set 2 | bambanglipuro\n",
      "Processing Record 144 of Set 2 | nguruka\n",
      "Processing Record 145 of Set 2 | jiexiu\n",
      "Processing Record 146 of Set 2 | nuuk\n",
      "Processing Record 147 of Set 2 | luziania\n",
      "Processing Record 148 of Set 2 | dwarka\n",
      "Processing Record 149 of Set 2 | illoqqortoormiut\n",
      "not on openweather\n",
      "Processing Record 150 of Set 2 | college\n",
      "Processing Record 151 of Set 2 | japura\n",
      "Processing Record 152 of Set 2 | hirara\n",
      "Processing Record 153 of Set 2 | buala\n",
      "Processing Record 154 of Set 2 | aflu\n",
      "not on openweather\n",
      "Processing Record 155 of Set 2 | araouane\n",
      "Processing Record 156 of Set 2 | cayenne\n",
      "Processing Record 157 of Set 2 | chernitsyno\n",
      "Processing Record 158 of Set 2 | de aar\n",
      "Processing Record 159 of Set 2 | tsihombe\n",
      "not on openweather\n",
      "Processing Record 160 of Set 2 | eureka\n",
      "Processing Record 161 of Set 2 | tasiilaq\n",
      "Processing Record 162 of Set 2 | cockburn town\n",
      "Processing Record 163 of Set 2 | boralday\n",
      "Processing Record 164 of Set 2 | sentyabrskiy\n",
      "not on openweather\n",
      "Processing Record 165 of Set 2 | mahebourg\n",
      "Processing Record 166 of Set 2 | grand river south east\n",
      "not on openweather\n",
      "Processing Record 167 of Set 2 | drjanovo\n",
      "not on openweather\n",
      "Processing Record 168 of Set 2 | cabo san lucas\n",
      "Processing Record 169 of Set 2 | sedelnikovo\n",
      "not on openweather\n",
      "Processing Record 170 of Set 2 | mozarlandia\n",
      "Processing Record 171 of Set 2 | ponta do sol\n",
      "Processing Record 172 of Set 2 | catamarca\n",
      "Processing Record 173 of Set 2 | shestakovo\n",
      "Processing Record 174 of Set 2 | camocim\n",
      "Processing Record 175 of Set 2 | yining\n",
      "Processing Record 176 of Set 2 | ondorhaan\n",
      "not on openweather\n",
      "Processing Record 177 of Set 2 | puerto baquerizo moreno\n",
      "Processing Record 178 of Set 2 | moerai\n",
      "Processing Record 179 of Set 2 | kiruna\n",
      "Processing Record 180 of Set 2 | egvekinot\n",
      "Processing Record 181 of Set 2 | zhireken\n",
      "Processing Record 182 of Set 2 | norman wells\n",
      "Processing Record 183 of Set 2 | nieuw amsterdam\n",
      "Processing Record 184 of Set 2 | sao joao da barra\n",
      "Processing Record 185 of Set 2 | chapais\n",
      "Processing Record 186 of Set 2 | kutum\n",
      "Processing Record 187 of Set 2 | vestmanna\n",
      "Processing Record 188 of Set 2 | vestmannaeyjar\n"
     ]
    },
    {
     "name": "stdout",
     "output_type": "stream",
     "text": [
      "Processing Record 189 of Set 2 | castanhal\n",
      "Processing Record 190 of Set 2 | debar\n",
      "Processing Record 191 of Set 2 | priladozhskiy\n",
      "Processing Record 192 of Set 2 | yellowknife\n",
      "Processing Record 193 of Set 2 | yeppoon\n",
      "Processing Record 194 of Set 2 | deshnok\n",
      "Processing Record 195 of Set 2 | lata\n",
      "Processing Record 196 of Set 2 | boddam\n",
      "Processing Record 197 of Set 2 | zhaotong\n",
      "Processing Record 198 of Set 2 | mehamn\n",
      "Processing Record 199 of Set 2 | hurghada\n",
      "Processing Record 200 of Set 3 | padre bernardo\n",
      "Processing Record 201 of Set 3 | khatanga\n",
      "Processing Record 202 of Set 3 | calamar\n",
      "Processing Record 203 of Set 3 | new norfolk\n",
      "Processing Record 204 of Set 3 | iqaluit\n",
      "Processing Record 205 of Set 3 | necochea\n",
      "Processing Record 206 of Set 3 | garden city\n",
      "Processing Record 207 of Set 3 | general pico\n",
      "Processing Record 208 of Set 3 | champerico\n",
      "Processing Record 209 of Set 3 | jauja\n",
      "Processing Record 210 of Set 3 | kempsey\n",
      "Processing Record 211 of Set 3 | voyvozh\n",
      "Processing Record 212 of Set 3 | betare oya\n",
      "Processing Record 213 of Set 3 | elko\n",
      "Processing Record 214 of Set 3 | newport\n",
      "Processing Record 215 of Set 3 | torbay\n",
      "Processing Record 216 of Set 3 | naze\n",
      "Processing Record 217 of Set 3 | meulaboh\n",
      "Processing Record 218 of Set 3 | aksu\n",
      "Processing Record 219 of Set 3 | fairbanks\n",
      "Processing Record 220 of Set 3 | arraial do cabo\n",
      "Processing Record 221 of Set 3 | kavieng\n",
      "Processing Record 222 of Set 3 | capanema\n",
      "Processing Record 223 of Set 3 | riyadh\n",
      "Processing Record 224 of Set 3 | nardaran\n",
      "Processing Record 225 of Set 3 | cepu\n",
      "Processing Record 226 of Set 3 | salinas\n",
      "Processing Record 227 of Set 3 | beloha\n",
      "Processing Record 228 of Set 3 | sioux lookout\n",
      "Processing Record 229 of Set 3 | bengkulu\n",
      "Processing Record 230 of Set 3 | hovd\n",
      "Processing Record 231 of Set 3 | attawapiskat\n",
      "not on openweather\n",
      "Processing Record 232 of Set 3 | caravelas\n",
      "Processing Record 233 of Set 3 | general roca\n",
      "Processing Record 234 of Set 3 | aksarka\n",
      "Processing Record 235 of Set 3 | killybegs\n",
      "Processing Record 236 of Set 3 | kununurra\n",
      "Processing Record 237 of Set 3 | clonakilty\n",
      "Processing Record 238 of Set 3 | boulsa\n",
      "Processing Record 239 of Set 3 | westport\n",
      "Processing Record 240 of Set 3 | thinadhoo\n",
      "Processing Record 241 of Set 3 | lucapa\n",
      "Processing Record 242 of Set 3 | porto velho\n",
      "Processing Record 243 of Set 3 | marienburg\n",
      "Processing Record 244 of Set 3 | inta\n",
      "Processing Record 245 of Set 3 | ahipara\n",
      "Processing Record 246 of Set 3 | hilo\n",
      "Processing Record 247 of Set 3 | ancud\n",
      "Processing Record 248 of Set 3 | pisco\n",
      "Processing Record 249 of Set 3 | shimoda\n",
      "Processing Record 250 of Set 3 | iisalmi\n",
      "Processing Record 251 of Set 3 | moroto\n",
      "Processing Record 252 of Set 3 | danielskuil\n",
      "Processing Record 253 of Set 3 | souillac\n",
      "Processing Record 254 of Set 3 | comodoro rivadavia\n",
      "Processing Record 255 of Set 3 | pathein\n",
      "Processing Record 256 of Set 3 | jati\n",
      "Processing Record 257 of Set 3 | kalmunai\n",
      "Processing Record 258 of Set 3 | san rafael\n",
      "Processing Record 259 of Set 3 | labutta\n",
      "not on openweather\n",
      "Processing Record 260 of Set 3 | lisbon\n",
      "Processing Record 261 of Set 3 | mildura\n",
      "Processing Record 262 of Set 3 | athni\n",
      "Processing Record 263 of Set 3 | middlesbrough\n",
      "Processing Record 264 of Set 3 | prachuap khiri khan\n",
      "Processing Record 265 of Set 3 | poum\n",
      "Processing Record 266 of Set 3 | verkhnyaya inta\n",
      "Processing Record 267 of Set 3 | namibe\n",
      "Processing Record 268 of Set 3 | sur\n",
      "Processing Record 269 of Set 3 | tilichiki\n",
      "Processing Record 270 of Set 3 | kurumkan\n",
      "Processing Record 271 of Set 3 | cap malheureux\n",
      "Processing Record 272 of Set 3 | chagda\n",
      "not on openweather\n",
      "Processing Record 273 of Set 3 | najran\n",
      "Processing Record 274 of Set 3 | road town\n",
      "Processing Record 275 of Set 3 | alice springs\n",
      "Processing Record 276 of Set 3 | majene\n",
      "Processing Record 277 of Set 3 | muroto\n",
      "Processing Record 278 of Set 3 | winnemucca\n",
      "Processing Record 279 of Set 3 | hualmay\n",
      "Processing Record 280 of Set 3 | wad rawah\n",
      "Processing Record 281 of Set 3 | hasaki\n",
      "Processing Record 282 of Set 3 | lolua\n",
      "not on openweather\n",
      "Processing Record 283 of Set 3 | sharjah\n",
      "Processing Record 284 of Set 3 | bairiki\n",
      "Processing Record 285 of Set 3 | galveston\n",
      "Processing Record 286 of Set 3 | gumdag\n",
      "Processing Record 287 of Set 3 | longyearbyen\n",
      "Processing Record 288 of Set 3 | mount gambier\n",
      "Processing Record 289 of Set 3 | mananara\n",
      "Processing Record 290 of Set 3 | constitucion\n",
      "Processing Record 291 of Set 3 | zhanaozen\n",
      "Processing Record 292 of Set 3 | port lincoln\n",
      "Processing Record 293 of Set 3 | saint-pierre\n",
      "Processing Record 294 of Set 3 | vvedenka\n",
      "Processing Record 295 of Set 3 | miri\n",
      "Processing Record 296 of Set 3 | puerto escondido\n",
      "Processing Record 297 of Set 3 | port elizabeth\n",
      "Processing Record 298 of Set 3 | kaduqli\n",
      "Processing Record 299 of Set 3 | vanimo\n",
      "Processing Record 300 of Set 4 | clinton\n",
      "Processing Record 301 of Set 4 | phangnga\n",
      "Processing Record 302 of Set 4 | ojhar\n",
      "Processing Record 303 of Set 4 | lorengau\n",
      "Processing Record 304 of Set 4 | quelimane\n",
      "Processing Record 305 of Set 4 | bad salzungen\n",
      "Processing Record 306 of Set 4 | millinocket\n",
      "Processing Record 307 of Set 4 | sterlitamak\n",
      "Processing Record 308 of Set 4 | saryg-sep\n",
      "Processing Record 309 of Set 4 | chitungwiza\n",
      "Processing Record 310 of Set 4 | eskil\n",
      "Processing Record 311 of Set 4 | buraydah\n",
      "Processing Record 312 of Set 4 | tocopilla\n",
      "Processing Record 313 of Set 4 | siwana\n",
      "Processing Record 314 of Set 4 | talnakh\n",
      "Processing Record 315 of Set 4 | mattru\n",
      "Processing Record 316 of Set 4 | eforie\n",
      "not on openweather\n",
      "Processing Record 317 of Set 4 | terme\n",
      "Processing Record 318 of Set 4 | mys shmidta\n",
      "not on openweather\n",
      "Processing Record 319 of Set 4 | dubbo\n",
      "Processing Record 320 of Set 4 | edgewater\n",
      "Processing Record 321 of Set 4 | fundu moldovei\n",
      "Processing Record 322 of Set 4 | kadaya\n",
      "Processing Record 323 of Set 4 | krylovskaya\n",
      "Processing Record 324 of Set 4 | lagoa\n",
      "Processing Record 325 of Set 4 | amapa\n",
      "Processing Record 326 of Set 4 | houma\n",
      "Processing Record 327 of Set 4 | kharp\n",
      "Processing Record 328 of Set 4 | flinders\n",
      "Processing Record 329 of Set 4 | victoria\n",
      "Processing Record 330 of Set 4 | codrington\n",
      "Processing Record 331 of Set 4 | leningradskiy\n",
      "Processing Record 332 of Set 4 | shurob\n",
      "Processing Record 333 of Set 4 | havre-saint-pierre\n",
      "Processing Record 334 of Set 4 | diffa\n",
      "Processing Record 335 of Set 4 | hay river\n",
      "Processing Record 336 of Set 4 | dali\n",
      "Processing Record 337 of Set 4 | karanganom\n",
      "Processing Record 338 of Set 4 | biankouma\n",
      "Processing Record 339 of Set 4 | saint-donat-de-montcalm\n",
      "Processing Record 340 of Set 4 | port hardy\n",
      "Processing Record 341 of Set 4 | gzhatsk\n",
      "not on openweather\n",
      "Processing Record 342 of Set 4 | petropavlovsk-kamchatskiy\n",
      "Processing Record 343 of Set 4 | tuzha\n",
      "Processing Record 344 of Set 4 | arlit\n",
      "Processing Record 345 of Set 4 | saint anthony\n",
      "Processing Record 346 of Set 4 | bismarck\n",
      "Processing Record 347 of Set 4 | sammamish\n",
      "Processing Record 348 of Set 4 | manaure\n",
      "Processing Record 349 of Set 4 | shubarkuduk\n",
      "Processing Record 350 of Set 4 | ratnagiri\n",
      "Processing Record 351 of Set 4 | bozhou\n",
      "Processing Record 352 of Set 4 | shadegan\n",
      "Processing Record 353 of Set 4 | praia da vitoria\n",
      "Processing Record 354 of Set 4 | padang\n",
      "Processing Record 355 of Set 4 | goure\n",
      "Processing Record 356 of Set 4 | kathmandu\n",
      "Processing Record 357 of Set 4 | srednekolymsk\n",
      "Processing Record 358 of Set 4 | zanjan\n",
      "Processing Record 359 of Set 4 | craig\n",
      "Processing Record 360 of Set 4 | pevek\n",
      "Processing Record 361 of Set 4 | kenai\n",
      "Processing Record 362 of Set 4 | gat\n",
      "Processing Record 363 of Set 4 | tuatapere\n",
      "Processing Record 364 of Set 4 | plettenberg bay\n",
      "Processing Record 365 of Set 4 | sao felix do xingu\n",
      "Processing Record 366 of Set 4 | luderitz\n",
      "Processing Record 367 of Set 4 | vodnyy\n",
      "Processing Record 368 of Set 4 | eskasem\n",
      "not on openweather\n",
      "Processing Record 369 of Set 4 | amderma\n",
      "not on openweather\n",
      "Processing Record 370 of Set 4 | takhtamygda\n",
      "Processing Record 371 of Set 4 | gamba\n",
      "Processing Record 372 of Set 4 | roebourne\n",
      "Processing Record 373 of Set 4 | toamua\n",
      "not on openweather\n",
      "Processing Record 374 of Set 4 | coihaique\n",
      "Processing Record 375 of Set 4 | tommot\n",
      "Processing Record 376 of Set 4 | lavrentiya\n",
      "Processing Record 377 of Set 4 | bolonchen\n"
     ]
    },
    {
     "name": "stdout",
     "output_type": "stream",
     "text": [
      "not on openweather\n",
      "Processing Record 378 of Set 4 | waipawa\n",
      "Processing Record 379 of Set 4 | gushikawa\n",
      "Processing Record 380 of Set 4 | pacific grove\n",
      "Processing Record 381 of Set 4 | tumannyy\n",
      "not on openweather\n",
      "Processing Record 382 of Set 4 | balykshi\n",
      "Processing Record 383 of Set 4 | okha\n",
      "Processing Record 384 of Set 4 | malyye derbety\n",
      "Processing Record 385 of Set 4 | ribeira brava\n",
      "Processing Record 386 of Set 4 | francisco beltrao\n",
      "Processing Record 387 of Set 4 | sereflikochisar\n",
      "Processing Record 388 of Set 4 | katsuura\n",
      "Processing Record 389 of Set 4 | muros\n",
      "Processing Record 390 of Set 4 | vikhorevka\n",
      "Processing Record 391 of Set 4 | kieta\n",
      "Processing Record 392 of Set 4 | karwar\n",
      "Processing Record 393 of Set 4 | manacapuru\n",
      "Processing Record 394 of Set 4 | concordia\n",
      "Processing Record 395 of Set 4 | karauzyak\n",
      "not on openweather\n",
      "Processing Record 396 of Set 4 | vila velha\n",
      "Processing Record 397 of Set 4 | portland\n",
      "Processing Record 398 of Set 4 | sechura\n",
      "Processing Record 399 of Set 4 | sorland\n",
      "Processing Record 400 of Set 5 | wajid\n",
      "Processing Record 401 of Set 5 | asau\n",
      "Processing Record 402 of Set 5 | mayo\n",
      "Processing Record 403 of Set 5 | wulanhaote\n",
      "not on openweather\n",
      "Processing Record 404 of Set 5 | karratha\n",
      "Processing Record 405 of Set 5 | cheremkhovo\n",
      "Processing Record 406 of Set 5 | fortuna\n",
      "Processing Record 407 of Set 5 | bud\n",
      "Processing Record 408 of Set 5 | tabiauea\n",
      "not on openweather\n",
      "Processing Record 409 of Set 5 | krasnoselkup\n",
      "Processing Record 410 of Set 5 | vilyuysk\n",
      "Processing Record 411 of Set 5 | oriximina\n",
      "Processing Record 412 of Set 5 | pontes e lacerda\n",
      "Processing Record 413 of Set 5 | spirit river\n",
      "Processing Record 414 of Set 5 | dhidhdhoo\n",
      "Processing Record 415 of Set 5 | uzlovaya\n",
      "Processing Record 416 of Set 5 | shache\n",
      "Processing Record 417 of Set 5 | pangkalanbuun\n",
      "Processing Record 418 of Set 5 | dolores\n",
      "Processing Record 419 of Set 5 | half moon bay\n",
      "Processing Record 420 of Set 5 | rungata\n",
      "not on openweather\n",
      "Processing Record 421 of Set 5 | neiafu\n",
      "Processing Record 422 of Set 5 | mrirt\n",
      "not on openweather\n",
      "Processing Record 423 of Set 5 | aquiraz\n",
      "Processing Record 424 of Set 5 | verkhniy baskunchak\n",
      "Processing Record 425 of Set 5 | ust-maya\n",
      "Processing Record 426 of Set 5 | aktau\n",
      "Processing Record 427 of Set 5 | havelock\n",
      "Processing Record 428 of Set 5 | visalia\n",
      "Processing Record 429 of Set 5 | bonavista\n",
      "Processing Record 430 of Set 5 | hofn\n",
      "Processing Record 431 of Set 5 | thunder bay\n",
      "Processing Record 432 of Set 5 | nguiu\n",
      "not on openweather\n",
      "Processing Record 433 of Set 5 | paramonga\n",
      "Processing Record 434 of Set 5 | ca mau\n",
      "Processing Record 435 of Set 5 | fort nelson\n",
      "Processing Record 436 of Set 5 | ilulissat\n",
      "Processing Record 437 of Set 5 | kuah\n",
      "Processing Record 438 of Set 5 | bubaque\n",
      "Processing Record 439 of Set 5 | havoysund\n",
      "Processing Record 440 of Set 5 | humberto de campos\n",
      "Processing Record 441 of Set 5 | ilo\n",
      "Processing Record 442 of Set 5 | batagay-alyta\n",
      "Processing Record 443 of Set 5 | severo-yeniseyskiy\n",
      "Processing Record 444 of Set 5 | puerto carreno\n",
      "Processing Record 445 of Set 5 | fier\n",
      "Processing Record 446 of Set 5 | inderborskiy\n",
      "not on openweather\n",
      "Processing Record 447 of Set 5 | tevaitoa\n",
      "Processing Record 448 of Set 5 | husavik\n",
      "Processing Record 449 of Set 5 | mnogovershinnyy\n",
      "Processing Record 450 of Set 5 | avera\n",
      "Processing Record 451 of Set 5 | kabanjahe\n",
      "Processing Record 452 of Set 5 | korla\n",
      "Processing Record 453 of Set 5 | morondava\n",
      "Processing Record 454 of Set 5 | rizhao\n",
      "Processing Record 455 of Set 5 | shakhtinsk\n",
      "Processing Record 456 of Set 5 | myitkyina\n",
      "Processing Record 457 of Set 5 | nizhneyansk\n",
      "not on openweather\n",
      "Processing Record 458 of Set 5 | nihommatsu\n",
      "Processing Record 459 of Set 5 | carora\n",
      "Processing Record 460 of Set 5 | pimentel\n",
      "Processing Record 461 of Set 5 | lazaro cardenas\n",
      "Processing Record 462 of Set 5 | marovoay\n",
      "Processing Record 463 of Set 5 | olympia\n",
      "Processing Record 464 of Set 5 | novyy urengoy\n",
      "Processing Record 465 of Set 5 | lhokseumawe\n",
      "Processing Record 466 of Set 5 | saint-joseph\n",
      "Processing Record 467 of Set 5 | svay rieng\n",
      "Processing Record 468 of Set 5 | mujiayingzi\n",
      "Processing Record 469 of Set 5 | bedesa\n",
      "Processing Record 470 of Set 5 | sorong\n",
      "Processing Record 471 of Set 5 | brigantine\n",
      "Processing Record 472 of Set 5 | tottori\n",
      "Processing Record 473 of Set 5 | pangnirtung\n",
      "Processing Record 474 of Set 5 | donghai\n",
      "Processing Record 475 of Set 5 | pouebo\n",
      "Processing Record 476 of Set 5 | papayal\n",
      "Processing Record 477 of Set 5 | acapulco\n",
      "Processing Record 478 of Set 5 | deputatskiy\n",
      "Processing Record 479 of Set 5 | barras\n",
      "Processing Record 480 of Set 5 | anar darreh\n",
      "not on openweather\n",
      "Processing Record 481 of Set 5 | weymouth\n",
      "Processing Record 482 of Set 5 | tarata\n",
      "Processing Record 483 of Set 5 | buon me thuot\n",
      "not on openweather\n",
      "Processing Record 484 of Set 5 | rocha\n",
      "Processing Record 485 of Set 5 | san vicente de chucuri\n",
      "Processing Record 486 of Set 5 | gigmoto\n",
      "Processing Record 487 of Set 5 | fukue\n",
      "Processing Record 488 of Set 5 | bolungarvik\n",
      "not on openweather\n",
      "Processing Record 489 of Set 5 | diamantina\n",
      "Processing Record 490 of Set 5 | sinobong\n",
      "not on openweather\n",
      "Processing Record 491 of Set 5 | chara\n",
      "Processing Record 492 of Set 5 | toliary\n",
      "not on openweather\n",
      "Processing Record 493 of Set 5 | sidi ali\n",
      "Processing Record 494 of Set 5 | limulunga\n",
      "Processing Record 495 of Set 5 | grindavik\n",
      "Processing Record 496 of Set 5 | samusu\n",
      "not on openweather\n",
      "Processing Record 497 of Set 5 | tecoanapa\n",
      "Processing Record 498 of Set 5 | sitrah\n",
      "Processing Record 499 of Set 5 | abaza\n",
      "Processing Record 500 of Set 6 | walvis bay\n",
      "Processing Record 501 of Set 6 | xilitla\n",
      "Processing Record 502 of Set 6 | podgorica\n",
      "Processing Record 503 of Set 6 | mkokotoni\n",
      "Processing Record 504 of Set 6 | oktyabrskiy\n",
      "Processing Record 505 of Set 6 | hattiesburg\n",
      "Processing Record 506 of Set 6 | duz\n",
      "not on openweather\n",
      "Processing Record 507 of Set 6 | tidore\n",
      "not on openweather\n",
      "Processing Record 508 of Set 6 | temaraia\n",
      "not on openweather\n",
      "Processing Record 509 of Set 6 | morro da fumaca\n",
      "Processing Record 510 of Set 6 | nome\n",
      "Processing Record 511 of Set 6 | nanpiao\n",
      "Processing Record 512 of Set 6 | galle\n",
      "Processing Record 513 of Set 6 | severomuysk\n",
      "Processing Record 514 of Set 6 | lotofaga\n",
      "Processing Record 515 of Set 6 | pirgos\n",
      "Processing Record 516 of Set 6 | mandsaur\n",
      "Processing Record 517 of Set 6 | huarmey\n",
      "Processing Record 518 of Set 6 | usinsk\n",
      "Processing Record 519 of Set 6 | dukat\n",
      "Processing Record 520 of Set 6 | mountain home\n",
      "Processing Record 521 of Set 6 | vaitupu\n",
      "not on openweather\n",
      "Processing Record 522 of Set 6 | bria\n",
      "Processing Record 523 of Set 6 | la ronge\n",
      "Processing Record 524 of Set 6 | remontnoye\n",
      "Processing Record 525 of Set 6 | tazovskiy\n",
      "Processing Record 526 of Set 6 | quirinopolis\n",
      "Processing Record 527 of Set 6 | taltal\n",
      "Processing Record 528 of Set 6 | kaohsiung\n",
      "Processing Record 529 of Set 6 | lugo\n",
      "Processing Record 530 of Set 6 | saleaula\n",
      "not on openweather\n",
      "Processing Record 531 of Set 6 | yarmouth\n",
      "Processing Record 532 of Set 6 | bafoulabe\n",
      "Processing Record 533 of Set 6 | kenscoff\n",
      "Processing Record 534 of Set 6 | llanes\n",
      "Processing Record 535 of Set 6 | kasganj\n",
      "Processing Record 536 of Set 6 | itoman\n",
      "Processing Record 537 of Set 6 | qaqortoq\n",
      "Processing Record 538 of Set 6 | fez\n",
      "Processing Record 539 of Set 6 | newberry\n",
      "Processing Record 540 of Set 6 | tharrawaddy\n",
      "not on openweather\n",
      "Processing Record 541 of Set 6 | port augusta\n",
      "Processing Record 542 of Set 6 | port hedland\n",
      "Processing Record 543 of Set 6 | mae hong son\n",
      "Processing Record 544 of Set 6 | palabuhanratu\n",
      "not on openweather\n",
      "Processing Record 545 of Set 6 | tateyama\n",
      "Processing Record 546 of Set 6 | narsaq\n",
      "Processing Record 547 of Set 6 | tolaga bay\n",
      "Processing Record 548 of Set 6 | arroyo\n",
      "Processing Record 549 of Set 6 | dickson\n",
      "Processing Record 550 of Set 6 | vila franca do campo\n",
      "Processing Record 551 of Set 6 | keti bandar\n",
      "Processing Record 552 of Set 6 | joshimath\n",
      "Processing Record 553 of Set 6 | asayita\n",
      "not on openweather\n",
      "Processing Record 554 of Set 6 | tagusao\n",
      "Processing Record 555 of Set 6 | mahibadhoo\n",
      "Processing Record 556 of Set 6 | harper\n",
      "Processing Record 557 of Set 6 | nouadhibou\n",
      "Processing Record 558 of Set 6 | mount isa\n",
      "Processing Record 559 of Set 6 | lexington\n"
     ]
    },
    {
     "name": "stdout",
     "output_type": "stream",
     "text": [
      "Processing Record 560 of Set 6 | pusad\n",
      "Processing Record 561 of Set 6 | roma\n",
      "Processing Record 562 of Set 6 | hope\n",
      "Processing Record 563 of Set 6 | mungaoli\n",
      "Processing Record 564 of Set 6 | vao\n",
      "Processing Record 565 of Set 6 | marawi\n",
      "Processing Record 566 of Set 6 | inuvik\n",
      "Processing Record 567 of Set 6 | lamar\n",
      "Processing Record 568 of Set 6 | lompoc\n",
      "Processing Record 569 of Set 6 | bayan\n",
      "Processing Record 570 of Set 6 | pochutla\n",
      "Processing Record 571 of Set 6 | kokoda\n",
      "Processing Record 572 of Set 6 | mayor pablo lagerenza\n",
      "Processing Record 573 of Set 6 | ust-kamchatsk\n",
      "not on openweather\n",
      "Processing Record 574 of Set 6 | saint-raymond\n",
      "Processing Record 575 of Set 6 | jesus carranza\n",
      "Processing Record 576 of Set 6 | chubbuck\n",
      "Processing Record 577 of Set 6 | mana\n",
      "Processing Record 578 of Set 6 | clyde river\n",
      "Processing Record 579 of Set 6 | tsimlyansk\n",
      "Processing Record 580 of Set 6 | vila\n",
      "Processing Record 581 of Set 6 | sept-iles\n",
      "Processing Record 582 of Set 6 | komsomolskiy\n",
      "Processing Record 583 of Set 6 | carballo\n",
      "Processing Record 584 of Set 6 | palmer\n",
      "Processing Record 585 of Set 6 | anadyr\n",
      "Processing Record 586 of Set 6 | guiratinga\n",
      "Processing Record 587 of Set 6 | caucasia\n",
      "Processing Record 588 of Set 6 | orissaare\n",
      "Processing Record 589 of Set 6 | lao cai\n",
      "Processing Record 590 of Set 6 | songjianghe\n",
      "Processing Record 591 of Set 6 | yulara\n",
      "Processing Record 592 of Set 6 | annau\n",
      "Processing Record 593 of Set 6 | solnechnyy\n",
      "Processing Record 594 of Set 6 | aracati\n",
      "Processing Record 595 of Set 6 | ust-kulom\n",
      "Processing Record 596 of Set 6 | xuanhua\n",
      "Processing Record 597 of Set 6 | longlac\n",
      "not on openweather\n",
      "Processing Record 598 of Set 6 | kayankulam\n",
      "Processing Record 599 of Set 6 | mikkeli\n",
      "Processing Record 600 of Set 7 | teahupoo\n",
      "Processing Record 601 of Set 7 | conde\n",
      "Processing Record 602 of Set 7 | sucua\n",
      "Processing Record 603 of Set 7 | muisne\n",
      "Processing Record 604 of Set 7 | dera bugti\n",
      "Processing Record 605 of Set 7 | kavaratti\n",
      "Processing Record 606 of Set 7 | adrar\n",
      "Processing Record 607 of Set 7 | cabo rojo\n",
      "Processing Record 608 of Set 7 | wajima\n",
      "Processing Record 609 of Set 7 | umzimvubu\n",
      "not on openweather\n",
      "Processing Record 610 of Set 7 | touros\n",
      "Processing Record 611 of Set 7 | angoram\n",
      "--------------\n",
      "City Data Loading Finished\n"
     ]
    }
   ],
   "source": [
    "#Setup a flexibe url variable to iterate through cities from openweather.com\n",
    "# and set units to Fahrenheit\n",
    "index = 0\n",
    "set_num = 1\n",
    "url = f'http://api.openweathermap.org/data/2.5/weather?units=Imperial&appid={weather_api_key}'\n",
    "\n",
    "city_info = []\n",
    "\n",
    "for city in cities:\n",
    "    city_name = city\n",
    "    index += 1\n",
    "    if index % 100 == 0:\n",
    "        set_num += 1\n",
    "    #make the url for each specific city in the list of cities\n",
    "    city_url = url + \"&q=\" + city\n",
    "    #make the print log\n",
    "    print(f'Processing Record {index} of Set {set_num} | {city}')\n",
    "    \n",
    "    \n",
    "    #Run the API request for info on each city in the list cities\n",
    "    try:\n",
    "        weather = requests.get(city_url).json()\n",
    "        \n",
    "        #extract the data on weather/latitude for each city\n",
    "        city_temp = weather['main']['temp_max']\n",
    "        #print(city_temp)\n",
    "        city_lat = weather['coord']['lat']\n",
    "        #print(city_lat)\n",
    "        city_humid = weather['main']['humidity']\n",
    "        #print(city_humid)\n",
    "        city_cloud = weather['clouds']['all']\n",
    "        #print(city_cloud)\n",
    "        city_wind_spd = weather['wind']['speed']\n",
    "        #print(city_wind_spd)\n",
    "        date = weather['dt']\n",
    "        \n",
    "        #extract the city information into the city_info list\n",
    "        #which will become a list of dictionaries we can convert to\n",
    "        #a pandas dataframe\n",
    "        city_info.append({\n",
    "            \n",
    "            \"City\": city_name,\n",
    "            \"Max Temperature\" : city_temp,\n",
    "            \"Latitude\" : city_lat,\n",
    "            \"Humidity\" : city_humid,\n",
    "            \"Cloud %\" : city_cloud,\n",
    "            \"Wind Speed\" : city_wind_spd,\n",
    "            \"Date Measured\" : date \n",
    "            \n",
    "        })\n",
    "    except:\n",
    "        print('not on openweather')\n",
    "        \n",
    "print('--------------')\n",
    "print('City Data Loading Finished')\n",
    "#print(city_info)    "
   ]
  },
  {
   "cell_type": "markdown",
   "metadata": {},
   "source": [
    "### Convert Raw Data to DataFrame\n",
    "* Export the city data into a .csv.\n",
    "* Display the DataFrame"
   ]
  },
  {
   "cell_type": "code",
   "execution_count": 80,
   "metadata": {},
   "outputs": [],
   "source": [
    "city_data = pd.DataFrame(city_info)\n",
    "city_data.head()\n",
    "\n",
    "city_data.to_csv(output_data_file, index_label = 'City Number')"
   ]
  },
  {
   "cell_type": "code",
   "execution_count": null,
   "metadata": {},
   "outputs": [],
   "source": []
  },
  {
   "cell_type": "markdown",
   "metadata": {},
   "source": [
    "## Inspect the data and remove the cities where the humidity > 100%.\n",
    "----\n",
    "Skip this step if there are no cities that have humidity > 100%. "
   ]
  },
  {
   "cell_type": "code",
   "execution_count": null,
   "metadata": {},
   "outputs": [],
   "source": []
  },
  {
   "cell_type": "code",
   "execution_count": 81,
   "metadata": {},
   "outputs": [
    {
     "name": "stdout",
     "output_type": "stream",
     "text": [
      "100\n"
     ]
    }
   ],
   "source": [
    "#  Get the indices of cities that have humidity over 100%.\n",
    "humidity_values = city_data['Humidity'].unique()\n",
    "print(max(humidity_values))"
   ]
  },
  {
   "cell_type": "code",
   "execution_count": null,
   "metadata": {},
   "outputs": [],
   "source": [
    "#There are no cities with over 100% humidity"
   ]
  },
  {
   "cell_type": "code",
   "execution_count": null,
   "metadata": {},
   "outputs": [],
   "source": [
    "# Make a new DataFrame equal to the city data to drop all humidity outliers by index.\n",
    "# Passing \"inplace=False\" will make a copy of the city_data DataFrame, which we call \"clean_city_data\".\n"
   ]
  },
  {
   "cell_type": "code",
   "execution_count": null,
   "metadata": {},
   "outputs": [],
   "source": [
    "\n"
   ]
  },
  {
   "cell_type": "markdown",
   "metadata": {},
   "source": [
    "## Plotting the Data\n",
    "* Use proper labeling of the plots using plot titles (including date of analysis) and axes labels.\n",
    "* Save the plotted figures as .pngs."
   ]
  },
  {
   "cell_type": "code",
   "execution_count": 92,
   "metadata": {},
   "outputs": [],
   "source": [
    "#make variables for the columns in the city-data dataframe\n",
    "latitude = city_data['Latitude']\n",
    "max_temp = city_data['Max Temperature']\n",
    "city = city_data['City']\n",
    "humidity = city_data['Humidity']\n",
    "clouds = city_data['Cloud %']\n",
    "wind_spd = city_data['Wind Speed']\n",
    "dates = city_data['Date Measured']"
   ]
  },
  {
   "cell_type": "markdown",
   "metadata": {},
   "source": [
    "## Latitude vs. Temperature Plot"
   ]
  },
  {
   "cell_type": "code",
   "execution_count": 100,
   "metadata": {
    "scrolled": false
   },
   "outputs": [
    {
     "data": {
      "image/png": "[encoded data removed]",
      "text/plain": [
       "<Figure size 432x288 with 1 Axes>"
      ]
     },
     "metadata": {
      "needs_background": "light"
     },
     "output_type": "display_data"
    }
   ],
   "source": [
    "plt.scatter(latitude, max_temp, edgecolor = 'black')\n",
    "plt.grid(True)\n",
    "#time.stftime will allow the code to use the current date to the title whenever it is run\n",
    "plt.title(f\"City Latitude vs Max Temperature (F) {time.strftime('%x')}\")\n",
    "plt.xlabel(\"Latitude\")\n",
    "plt.ylabel(\"Max Temperature (F)\")\n",
    "\n",
    "#save the graph\n",
    "plt.savefig(\"output_data/max_temp_scatter.png\")"
   ]
  },
  {
   "cell_type": "markdown",
   "metadata": {},
   "source": [
    "This graph shows how maximum temperatures in cities increase the closer they are to the equator and decrease the further they are from the equator.\n"
   ]
  },
  {
   "cell_type": "markdown",
   "metadata": {},
   "source": [
    "## Latitude vs. Humidity Plot"
   ]
  },
  {
   "cell_type": "code",
   "execution_count": 101,
   "metadata": {},
   "outputs": [
    {
     "data": {
      "image/png": "[encoded data removed]",
      "text/plain": [
       "<Figure size 432x288 with 1 Axes>"
      ]
     },
     "metadata": {
      "needs_background": "light"
     },
     "output_type": "display_data"
    }
   ],
   "source": [
    "plt.scatter(latitude, humidity, edgecolor = 'black')\n",
    "plt.grid(True)\n",
    "#time.stftime will allow the code to use the current date to the title whenever it is run\n",
    "plt.title(f\"City Latitude vs Humidity {time.strftime('%x')}\")\n",
    "plt.xlabel(\"Latitude\")\n",
    "plt.ylabel(\"Humidity\")\n",
    "\n",
    "#save the graph\n",
    "plt.savefig(\"output_data/humidity_scatter.png\")"
   ]
  },
  {
   "cell_type": "markdown",
   "metadata": {},
   "source": [
    "The lowest humidities in this sample have a latitude between 20 and 45 degrees. "
   ]
  },
  {
   "cell_type": "markdown",
   "metadata": {},
   "source": [
    "## Latitude vs. Cloudiness Plot"
   ]
  },
  {
   "cell_type": "code",
   "execution_count": 102,
   "metadata": {},
   "outputs": [
    {
     "data": {
      "image/png": "[encoded data removed]",
      "text/plain": [
       "<Figure size 432x288 with 1 Axes>"
      ]
     },
     "metadata": {
      "needs_background": "light"
     },
     "output_type": "display_data"
    }
   ],
   "source": [
    "plt.scatter(latitude, clouds, edgecolor = 'black')\n",
    "plt.grid(True)\n",
    "#time.stftime will allow the code to use the current date to the title whenever it is run\n",
    "plt.title(f\"City Latitude vs Cloudiness {time.strftime('%x')}\")\n",
    "plt.xlabel(\"Latitude\")\n",
    "plt.ylabel(\"Cloudiness\")\n",
    "\n",
    "#save the graph\n",
    "plt.savefig(\"output_data/cloud_scatter.png\")"
   ]
  },
  {
   "cell_type": "markdown",
   "metadata": {},
   "source": [
    "Most cities with the least cloudines have a latitude of -40 to -5 degrees and 20 to 50 degrees. Conversely, most cities with the highest cloudiness have a latitude of 0 to 25 degrees and 50 to 75 degrees."
   ]
  },
  {
   "cell_type": "markdown",
   "metadata": {},
   "source": [
    "## Latitude vs. Wind Speed Plot"
   ]
  },
  {
   "cell_type": "code",
   "execution_count": 103,
   "metadata": {},
   "outputs": [
    {
     "data": {
      "image/png": "[encoded data removed]",
      "text/plain": [
       "<Figure size 432x288 with 1 Axes>"
      ]
     },
     "metadata": {
      "needs_background": "light"
     },
     "output_type": "display_data"
    }
   ],
   "source": [
    "plt.scatter(latitude, wind_spd, edgecolor = 'black')\n",
    "plt.grid(True)\n",
    "#time.stftime will allow the code to use the current date to the title whenever it is run\n",
    "plt.title(f\"City Latitude vs Wind Speed {time.strftime('%x')}\")\n",
    "plt.xlabel(\"Latitude\")\n",
    "plt.ylabel(\"Wind Speed\")\n",
    "\n",
    "#save the graph\n",
    "plt.savefig(\"output_data/wind_speed_scatter.png\")"
   ]
  },
  {
   "cell_type": "markdown",
   "metadata": {},
   "source": [
    "There does not seem to be a strong correlation between latitude and wind speed."
   ]
  },
  {
   "cell_type": "markdown",
   "metadata": {},
   "source": [
    "## Linear Regression"
   ]
  },
  {
   "cell_type": "code",
   "execution_count": 104,
   "metadata": {},
   "outputs": [],
   "source": [
    "northern_data_df = city_data.loc[(city_data['Latitude'] >= 0)]"
   ]
  },
  {
   "cell_type": "markdown",
   "metadata": {},
   "source": [
    "####  Northern Hemisphere - Max Temp vs. Latitude Linear Regression"
   ]
  },
  {
   "cell_type": "code",
   "execution_count": null,
   "metadata": {},
   "outputs": [],
   "source": []
  },
  {
   "cell_type": "markdown",
   "metadata": {},
   "source": [
    "####  Southern Hemisphere - Max Temp vs. Latitude Linear Regression"
   ]
  },
  {
   "cell_type": "code",
   "execution_count": null,
   "metadata": {},
   "outputs": [],
   "source": []
  },
  {
   "cell_type": "markdown",
   "metadata": {},
   "source": [
    "####  Northern Hemisphere - Humidity (%) vs. Latitude Linear Regression"
   ]
  },
  {
   "cell_type": "code",
   "execution_count": null,
   "metadata": {},
   "outputs": [],
   "source": []
  },
  {
   "cell_type": "markdown",
   "metadata": {},
   "source": [
    "####  Southern Hemisphere - Humidity (%) vs. Latitude Linear Regression"
   ]
  },
  {
   "cell_type": "code",
   "execution_count": null,
   "metadata": {},
   "outputs": [],
   "source": []
  },
  {
   "cell_type": "markdown",
   "metadata": {},
   "source": [
    "####  Northern Hemisphere - Cloudiness (%) vs. Latitude Linear Regression"
   ]
  },
  {
   "cell_type": "code",
   "execution_count": null,
   "metadata": {},
   "outputs": [],
   "source": []
  },
  {
   "cell_type": "markdown",
   "metadata": {},
   "source": [
    "####  Southern Hemisphere - Cloudiness (%) vs. Latitude Linear Regression"
   ]
  },
  {
   "cell_type": "code",
   "execution_count": null,
   "metadata": {},
   "outputs": [],
   "source": []
  },
  {
   "cell_type": "markdown",
   "metadata": {},
   "source": [
    "####  Northern Hemisphere - Wind Speed (mph) vs. Latitude Linear Regression"
   ]
  },
  {
   "cell_type": "code",
   "execution_count": null,
   "metadata": {},
   "outputs": [],
   "source": []
  },
  {
   "cell_type": "markdown",
   "metadata": {},
   "source": [
    "####  Southern Hemisphere - Wind Speed (mph) vs. Latitude Linear Regression"
   ]
  },
  {
   "cell_type": "code",
   "execution_count": null,
   "metadata": {},
   "outputs": [],
   "source": []
  },
  {
   "cell_type": "code",
   "execution_count": null,
   "metadata": {},
   "outputs": [],
   "source": []
  }
 ],
 "metadata": {
  "anaconda-cloud": {},
  "kernel_info": {
   "name": "python3"
  },
  "kernelspec": {
   "display_name": "Python 3",
   "language": "python",
   "name": "python3"
  },
  "language_info": {
   "codemirror_mode": {
    "name": "ipython",
    "version": 3
   },
   "file_extension": ".py",
   "mimetype": "text/x-python",
   "name": "python",
   "nbconvert_exporter": "python",
   "pygments_lexer": "ipython3",
   "version": "3.8.8"
  },
  "latex_envs": {
   "LaTeX_envs_menu_present": true,
   "autoclose": false,
   "autocomplete": true,
   "bibliofile": "biblio.bib",
   "cite_by": "apalike",
   "current_citInitial": 1,
   "eqLabelWithNumbers": true,
   "eqNumInitial": 1,
   "hotkeys": {
    "equation": "Ctrl-E",
    "itemize": "Ctrl-I"
   },
   "labels_anchors": false,
   "latex_user_defs": false,
   "report_style_numbering": false,
   "user_envs_cfg": false
  },
  "nteract": {
   "version": "0.12.3"
  }
 },
 "nbformat": 4,
 "nbformat_minor": 2
}
