{
 "cells": [
  {
   "cell_type": "markdown",
   "metadata": {},
   "source": [
    "# WeatherPy\n",
    "----\n",
    "\n",
    "#### Note\n",
    "* Instructions have been included for each segment. You do not have to follow them exactly, but they are included to help you think through the steps."
   ]
  },
  {
   "cell_type": "code",
   "execution_count": 1,
   "metadata": {
    "scrolled": true
   },
   "outputs": [],
   "source": [
    "# Dependencies and Setup\n",
    "import matplotlib.pyplot as plt\n",
    "import pandas as pd\n",
    "import numpy as np\n",
    "import requests\n",
    "import time\n",
    "from scipy.stats import linregress\n",
    "\n",
    "# Import API key\n",
    "from api_keys import weather_api_key\n",
    "\n",
    "# Incorporated citipy to determine city based on latitude and longitude\n",
    "from citipy import citipy\n",
    "\n",
    "# Output File (CSV)\n",
    "output_data_file = \"output_data/cities.csv\"\n",
    "\n",
    "# Range of latitudes and longitudes\n",
    "lat_range = (-90, 90)\n",
    "lng_range = (-180, 180)"
   ]
  },
  {
   "cell_type": "markdown",
   "metadata": {},
   "source": [
    "## Generate Cities List"
   ]
  },
  {
   "cell_type": "code",
   "execution_count": 2,
   "metadata": {},
   "outputs": [
    {
     "data": {
      "text/plain": [
       "612"
      ]
     },
     "execution_count": 2,
     "metadata": {},
     "output_type": "execute_result"
    }
   ],
   "source": [
    "# List for holding lat_lngs and cities\n",
    "lat_lngs = []\n",
    "cities = []\n",
    "\n",
    "# Create a set of random lat and lng combinations\n",
    "lats = np.random.uniform(lat_range[0], lat_range[1], size=1500)\n",
    "lngs = np.random.uniform(lng_range[0], lng_range[1], size=1500)\n",
    "lat_lngs = zip(lats, lngs)\n",
    "\n",
    "# Identify nearest city for each lat, lng combination\n",
    "for lat_lng in lat_lngs:\n",
    "    city = citipy.nearest_city(lat_lng[0], lat_lng[1]).city_name\n",
    "    \n",
    "    # If the city is unique, then add it to a our cities list\n",
    "    if city not in cities:\n",
    "        cities.append(city)\n",
    "\n",
    "# Print the city count to confirm sufficient count\n",
    "len(cities)"
   ]
  },
  {
   "cell_type": "markdown",
   "metadata": {},
   "source": [
    "### Perform API Calls\n",
    "* Perform a weather check on each city using a series of successive API calls.\n",
    "* Include a print log of each city as it'sbeing processed (with the city number and city name).\n"
   ]
  },
  {
   "cell_type": "code",
   "execution_count": 12,
   "metadata": {
    "scrolled": true
   },
   "outputs": [
    {
     "name": "stdout",
     "output_type": "stream",
     "text": [
      "http://api.openweathermap.org/data/2.5/weather?units=Imperial&appid=c7e028783015d8fd8d8621813c1fe34d&q=hobart\n",
      "http://api.openweathermap.org/data/2.5/weather?units=Imperial&appid=c7e028783015d8fd8d8621813c1fe34d&q=mataura\n",
      "http://api.openweathermap.org/data/2.5/weather?units=Imperial&appid=c7e028783015d8fd8d8621813c1fe34d&q=kapaa\n",
      "http://api.openweathermap.org/data/2.5/weather?units=Imperial&appid=c7e028783015d8fd8d8621813c1fe34d&q=puerto ayora\n",
      "http://api.openweathermap.org/data/2.5/weather?units=Imperial&appid=c7e028783015d8fd8d8621813c1fe34d&q=bure\n",
      "http://api.openweathermap.org/data/2.5/weather?units=Imperial&appid=c7e028783015d8fd8d8621813c1fe34d&q=arraial do cabo\n",
      "http://api.openweathermap.org/data/2.5/weather?units=Imperial&appid=c7e028783015d8fd8d8621813c1fe34d&q=carnarvon\n",
      "http://api.openweathermap.org/data/2.5/weather?units=Imperial&appid=c7e028783015d8fd8d8621813c1fe34d&q=sentyabrskiy\n",
      "http://api.openweathermap.org/data/2.5/weather?units=Imperial&appid=c7e028783015d8fd8d8621813c1fe34d&q=lata\n",
      "http://api.openweathermap.org/data/2.5/weather?units=Imperial&appid=c7e028783015d8fd8d8621813c1fe34d&q=mar del plata\n",
      "http://api.openweathermap.org/data/2.5/weather?units=Imperial&appid=c7e028783015d8fd8d8621813c1fe34d&q=waingapu\n",
      "http://api.openweathermap.org/data/2.5/weather?units=Imperial&appid=c7e028783015d8fd8d8621813c1fe34d&q=maldonado\n",
      "http://api.openweathermap.org/data/2.5/weather?units=Imperial&appid=c7e028783015d8fd8d8621813c1fe34d&q=cherskiy\n",
      "http://api.openweathermap.org/data/2.5/weather?units=Imperial&appid=c7e028783015d8fd8d8621813c1fe34d&q=coquimbo\n",
      "http://api.openweathermap.org/data/2.5/weather?units=Imperial&appid=c7e028783015d8fd8d8621813c1fe34d&q=rikitea\n",
      "http://api.openweathermap.org/data/2.5/weather?units=Imperial&appid=c7e028783015d8fd8d8621813c1fe34d&q=albany\n",
      "http://api.openweathermap.org/data/2.5/weather?units=Imperial&appid=c7e028783015d8fd8d8621813c1fe34d&q=enid\n",
      "http://api.openweathermap.org/data/2.5/weather?units=Imperial&appid=c7e028783015d8fd8d8621813c1fe34d&q=hithadhoo\n",
      "http://api.openweathermap.org/data/2.5/weather?units=Imperial&appid=c7e028783015d8fd8d8621813c1fe34d&q=matamoros\n",
      "http://api.openweathermap.org/data/2.5/weather?units=Imperial&appid=c7e028783015d8fd8d8621813c1fe34d&q=vaini\n"
     ]
    }
   ],
   "source": [
    "#Setup a flexibe url variable to iterate through cities from openweather.com\n",
    "# and set units to Fahrenheit\n",
    "index = 0\n",
    "set_num = 1\n",
    "url = f'http://api.openweathermap.org/data/2.5/weather?units=Imperial&appid={weather_api_key}'\n",
    "\n",
    "city_info = []\n",
    "\n",
    "for city in cities[0:20]:\n",
    "    index += 1\n",
    "    if index % 100 == 0:\n",
    "        set_num += 1\n",
    "    #make the url for each specific city in the list of cities\n",
    "    city_url = url + \"&q=\" + city\n",
    "    print(city_url)\n",
    "    #make the print log\n",
    "    #print(f'Processing Record {index} of Set {set_num} | {city}')\n",
    "    \n",
    "    \n",
    "    #Run the API request for info on each city in the list cities\n",
    "    #try:\n",
    "    #weather = requests.get(city_url).json()\n",
    "        #extract the data on weather/latitude for each city\n",
    "    #city_temp = weather['main']['temp']\n",
    "    #print(weather)\n",
    "        #city_lat = weather\n",
    "        #city_humid =\n",
    "        #city_cloud =\n",
    "        #city_wind_spd = \n",
    "        \n",
    "    #except:\n",
    "        #print('not on openweather')\n",
    "    \n",
    "    "
   ]
  },
  {
   "cell_type": "markdown",
   "metadata": {},
   "source": [
    "### Convert Raw Data to DataFrame\n",
    "* Export the city data into a .csv.\n",
    "* Display the DataFrame"
   ]
  },
  {
   "cell_type": "code",
   "execution_count": null,
   "metadata": {},
   "outputs": [],
   "source": []
  },
  {
   "cell_type": "code",
   "execution_count": null,
   "metadata": {},
   "outputs": [],
   "source": []
  },
  {
   "cell_type": "markdown",
   "metadata": {},
   "source": [
    "## Inspect the data and remove the cities where the humidity > 100%.\n",
    "----\n",
    "Skip this step if there are no cities that have humidity > 100%. "
   ]
  },
  {
   "cell_type": "code",
   "execution_count": null,
   "metadata": {},
   "outputs": [],
   "source": []
  },
  {
   "cell_type": "code",
   "execution_count": null,
   "metadata": {},
   "outputs": [],
   "source": [
    "#  Get the indices of cities that have humidity over 100%.\n"
   ]
  },
  {
   "cell_type": "code",
   "execution_count": null,
   "metadata": {},
   "outputs": [],
   "source": [
    "# Make a new DataFrame equal to the city data to drop all humidity outliers by index.\n",
    "# Passing \"inplace=False\" will make a copy of the city_data DataFrame, which we call \"clean_city_data\".\n"
   ]
  },
  {
   "cell_type": "code",
   "execution_count": null,
   "metadata": {},
   "outputs": [],
   "source": [
    "\n"
   ]
  },
  {
   "cell_type": "markdown",
   "metadata": {},
   "source": [
    "## Plotting the Data\n",
    "* Use proper labeling of the plots using plot titles (including date of analysis) and axes labels.\n",
    "* Save the plotted figures as .pngs."
   ]
  },
  {
   "cell_type": "markdown",
   "metadata": {},
   "source": [
    "## Latitude vs. Temperature Plot"
   ]
  },
  {
   "cell_type": "code",
   "execution_count": null,
   "metadata": {
    "scrolled": true
   },
   "outputs": [],
   "source": []
  },
  {
   "cell_type": "markdown",
   "metadata": {},
   "source": [
    "## Latitude vs. Humidity Plot"
   ]
  },
  {
   "cell_type": "code",
   "execution_count": null,
   "metadata": {},
   "outputs": [],
   "source": []
  },
  {
   "cell_type": "markdown",
   "metadata": {},
   "source": [
    "## Latitude vs. Cloudiness Plot"
   ]
  },
  {
   "cell_type": "code",
   "execution_count": null,
   "metadata": {},
   "outputs": [],
   "source": []
  },
  {
   "cell_type": "markdown",
   "metadata": {},
   "source": [
    "## Latitude vs. Wind Speed Plot"
   ]
  },
  {
   "cell_type": "code",
   "execution_count": null,
   "metadata": {},
   "outputs": [],
   "source": []
  },
  {
   "cell_type": "markdown",
   "metadata": {},
   "source": [
    "## Linear Regression"
   ]
  },
  {
   "cell_type": "code",
   "execution_count": null,
   "metadata": {},
   "outputs": [],
   "source": []
  },
  {
   "cell_type": "markdown",
   "metadata": {},
   "source": [
    "####  Northern Hemisphere - Max Temp vs. Latitude Linear Regression"
   ]
  },
  {
   "cell_type": "code",
   "execution_count": null,
   "metadata": {},
   "outputs": [],
   "source": []
  },
  {
   "cell_type": "markdown",
   "metadata": {},
   "source": [
    "####  Southern Hemisphere - Max Temp vs. Latitude Linear Regression"
   ]
  },
  {
   "cell_type": "code",
   "execution_count": null,
   "metadata": {},
   "outputs": [],
   "source": []
  },
  {
   "cell_type": "markdown",
   "metadata": {},
   "source": [
    "####  Northern Hemisphere - Humidity (%) vs. Latitude Linear Regression"
   ]
  },
  {
   "cell_type": "code",
   "execution_count": null,
   "metadata": {},
   "outputs": [],
   "source": []
  },
  {
   "cell_type": "markdown",
   "metadata": {},
   "source": [
    "####  Southern Hemisphere - Humidity (%) vs. Latitude Linear Regression"
   ]
  },
  {
   "cell_type": "code",
   "execution_count": null,
   "metadata": {},
   "outputs": [],
   "source": []
  },
  {
   "cell_type": "markdown",
   "metadata": {},
   "source": [
    "####  Northern Hemisphere - Cloudiness (%) vs. Latitude Linear Regression"
   ]
  },
  {
   "cell_type": "code",
   "execution_count": null,
   "metadata": {},
   "outputs": [],
   "source": []
  },
  {
   "cell_type": "markdown",
   "metadata": {},
   "source": [
    "####  Southern Hemisphere - Cloudiness (%) vs. Latitude Linear Regression"
   ]
  },
  {
   "cell_type": "code",
   "execution_count": null,
   "metadata": {},
   "outputs": [],
   "source": []
  },
  {
   "cell_type": "markdown",
   "metadata": {},
   "source": [
    "####  Northern Hemisphere - Wind Speed (mph) vs. Latitude Linear Regression"
   ]
  },
  {
   "cell_type": "code",
   "execution_count": null,
   "metadata": {},
   "outputs": [],
   "source": []
  },
  {
   "cell_type": "markdown",
   "metadata": {},
   "source": [
    "####  Southern Hemisphere - Wind Speed (mph) vs. Latitude Linear Regression"
   ]
  },
  {
   "cell_type": "code",
   "execution_count": null,
   "metadata": {},
   "outputs": [],
   "source": []
  },
  {
   "cell_type": "code",
   "execution_count": null,
   "metadata": {},
   "outputs": [],
   "source": []
  }
 ],
 "metadata": {
  "anaconda-cloud": {},
  "kernel_info": {
   "name": "python3"
  },
  "kernelspec": {
   "display_name": "Python 3",
   "language": "python",
   "name": "python3"
  },
  "language_info": {
   "codemirror_mode": {
    "name": "ipython",
    "version": 3
   },
   "file_extension": ".py",
   "mimetype": "text/x-python",
   "name": "python",
   "nbconvert_exporter": "python",
   "pygments_lexer": "ipython3",
   "version": "3.8.8"
  },
  "latex_envs": {
   "LaTeX_envs_menu_present": true,
   "autoclose": false,
   "autocomplete": true,
   "bibliofile": "biblio.bib",
   "cite_by": "apalike",
   "current_citInitial": 1,
   "eqLabelWithNumbers": true,
   "eqNumInitial": 1,
   "hotkeys": {
    "equation": "Ctrl-E",
    "itemize": "Ctrl-I"
   },
   "labels_anchors": false,
   "latex_user_defs": false,
   "report_style_numbering": false,
   "user_envs_cfg": false
  },
  "nteract": {
   "version": "0.12.3"
  }
 },
 "nbformat": 4,
 "nbformat_minor": 2
}
